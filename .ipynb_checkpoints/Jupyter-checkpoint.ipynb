{
 "cells": [
  {
   "cell_type": "code",
   "execution_count": 1,
   "id": "21877583",
   "metadata": {},
   "outputs": [
    {
     "ename": "ModuleNotFoundError",
     "evalue": "No module named 'tensorflow'",
     "output_type": "error",
     "traceback": [
      "\u001b[1;31m---------------------------------------------------------------------------\u001b[0m",
      "\u001b[1;31mModuleNotFoundError\u001b[0m                       Traceback (most recent call last)",
      "\u001b[1;32m~\\AppData\\Local\\Temp/ipykernel_17984/1478735375.py\u001b[0m in \u001b[0;36m<module>\u001b[1;34m\u001b[0m\n\u001b[0;32m      4\u001b[0m \u001b[1;32mfrom\u001b[0m \u001b[0mIPython\u001b[0m\u001b[1;33m.\u001b[0m\u001b[0mdisplay\u001b[0m \u001b[1;32mimport\u001b[0m \u001b[0mclear_output\u001b[0m\u001b[1;33m\u001b[0m\u001b[1;33m\u001b[0m\u001b[0m\n\u001b[0;32m      5\u001b[0m \u001b[1;32mfrom\u001b[0m \u001b[0msix\u001b[0m\u001b[1;33m.\u001b[0m\u001b[0mmoves\u001b[0m \u001b[1;32mimport\u001b[0m \u001b[0murllib\u001b[0m\u001b[1;33m\u001b[0m\u001b[1;33m\u001b[0m\u001b[0m\n\u001b[1;32m----> 6\u001b[1;33m \u001b[1;32mimport\u001b[0m \u001b[0mtensorflow\u001b[0m\u001b[1;33m.\u001b[0m\u001b[0mcompat\u001b[0m\u001b[1;33m.\u001b[0m\u001b[0mv2\u001b[0m\u001b[1;33m.\u001b[0m\u001b[0mfeature_column\u001b[0m \u001b[1;32mas\u001b[0m \u001b[0mfc\u001b[0m\u001b[1;33m\u001b[0m\u001b[1;33m\u001b[0m\u001b[0m\n\u001b[0m\u001b[0;32m      7\u001b[0m \u001b[1;32mimport\u001b[0m \u001b[0mtensorflow\u001b[0m \u001b[1;32mas\u001b[0m \u001b[0mtf\u001b[0m\u001b[1;33m\u001b[0m\u001b[1;33m\u001b[0m\u001b[0m\n\u001b[0;32m      8\u001b[0m \u001b[1;32mimport\u001b[0m \u001b[0mjson\u001b[0m\u001b[1;33m\u001b[0m\u001b[1;33m\u001b[0m\u001b[0m\n",
      "\u001b[1;31mModuleNotFoundError\u001b[0m: No module named 'tensorflow'"
     ]
    }
   ],
   "source": [
    "import numpy as np\n",
    "import pandas as pd\n",
    "import matplotlib.pyplot as plt\n",
    "from IPython.display import clear_output\n",
    "from six.moves import urllib\n",
    "import tensorflow.compat.v2.feature_column as fc\n",
    "import tensorflow as tf\n",
    "import json\n",
    "import csv\n",
    "import os"
   ]
  },
  {
   "cell_type": "code",
   "execution_count": null,
   "id": "010b4271",
   "metadata": {},
   "outputs": [],
   "source": [
    "directory = 'generated.photos_metadata'\n",
    "header = ['image', 'mouth0x', 'mouth0y', 'mouth1x', 'mouth1y', 'mouth2x', 'mouth2y', 'mouth3x', 'mouth3y', 'mouth4x', 'mouth4y', 'mouth5x', 'mouth5y', 'mouth6x', 'mouth6y', 'mouth7x', 'mouth7y', 'mouth8x', 'mouth8y', 'mouth9x', 'mouth9y', 'mouth10x', 'mouth10y', 'mouth11x', 'mouth11y', 'mouth12x', 'mouth12y', 'mouth13x', 'mouth13y', 'mouth14x', 'mouth14y', 'mouth15x', 'mouth15y', 'mouth16x', 'mouth16y', 'mouth17x', 'mouth17y', 'mouth18x', 'mouth18y', 'mouth19x', 'mouth19y', 'happiness']\n",
    "with open('data.csv', 'w', encoding='UTF8', newline=\"\") as f:\n",
    "    writer = csv.writer(f)\n",
    "    writer.writerow(header)\n",
    "\n",
    "    for filename in os.listdir(directory):\n",
    "        f = os.path.join(directory, filename)\n",
    "        if os.path.isfile(f):\n",
    "            print(f)\n",
    "            with open(f) as file:\n",
    "                excel = json.load(file)\n",
    "\n",
    "            image = excel['image']\n",
    "            mouth = excel['faceLandmarks']['mouth']\n",
    "            happiness = excel['faceAttributes']['emotion']['happiness']\n",
    "            gender = excel['faceAttributes']['gender']\n",
    "            ethnicity = excel['faceAttributes']['ethnicity']\n",
    "            age = excel['faceAttributes']['age']\n",
    "\n",
    "            # This sections splits the x,y coordinates that make up the 'Mouth' attribute into individual numbers in a csv file, this way our code can use it individually\n",
    "            mouthArray = [0] * 40\n",
    "            i = 0\n",
    "            x = 0\n",
    "            while i < 40:\n",
    "                if (i % 2) == 0:\n",
    "                    mouthString = str(mouth[x])\n",
    "                    mouthFormatX = mouthString[6:9]\n",
    "                    mouthFormatY = mouthString[16:19]\n",
    "                    mouthArray[i] = int(mouthFormatX)\n",
    "                    x += 1\n",
    "                    print(\"this is x: \" + str(mouthArray[i]))\n",
    "                elif i == 0:\n",
    "                    mouthString = str(mouth[x])\n",
    "                    mouthFormatX = mouthString[6:9]\n",
    "                    mouthFormatY = mouthString[16:19]\n",
    "                    mouthArray[i] = int(mouthFormatX)\n",
    "                    x += 1\n",
    "                    print(\"this is x: \" + str(mouthArray[i]))\n",
    "                else:\n",
    "                    mouthArray[i] = int(mouthFormatY)\n",
    "                    print(\"this is y: \" + str(mouthArray[i]))\n",
    "                print(mouthFormatX)\n",
    "                print(mouthFormatY)\n",
    "                i += 1\n",
    "\n",
    "\n",
    "            data = [0] * 42\n",
    "            data[0] = image\n",
    "            i = 0\n",
    "            while i < 40:\n",
    "                data[i+1] = mouthArray[i]\n",
    "                i += 1\n",
    "            data[41] = happiness\n",
    "            print(\"end\")\n",
    "            writer.writerow(data)\n",
    "            print(data)\n",
    "\n",
    "f.close()\n"
   ]
  }
 ],
 "metadata": {
  "kernelspec": {
   "display_name": "Python 3 (ipykernel)",
   "language": "python",
   "name": "python3"
  },
  "language_info": {
   "codemirror_mode": {
    "name": "ipython",
    "version": 3
   },
   "file_extension": ".py",
   "mimetype": "text/x-python",
   "name": "python",
   "nbconvert_exporter": "python",
   "pygments_lexer": "ipython3",
   "version": "3.9.7"
  }
 },
 "nbformat": 4,
 "nbformat_minor": 5
}
