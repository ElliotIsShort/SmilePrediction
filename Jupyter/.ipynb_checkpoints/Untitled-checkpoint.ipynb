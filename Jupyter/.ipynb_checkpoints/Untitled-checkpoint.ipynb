{
 "cells": [
  {
   "cell_type": "code",
   "execution_count": 1,
   "id": "00c5184b",
   "metadata": {},
   "outputs": [],
   "source": [
    "import sys\n",
    "import os\n",
    "import dlib\n",
    "import glob"
   ]
  },
  {
   "cell_type": "code",
   "execution_count": 2,
   "id": "8aa3cf2f",
   "metadata": {},
   "outputs": [],
   "source": [
    "if len(sys.argv) != 3:\n",
    "    print(\n",
    "        \"Give the path to the trained shape predictor model as the first \"\n",
    "        \"argument and then the directory containing the facial images.\\n\"\n",
    "        \"For example, if you are in the python_examples folder then \"\n",
    "        \"execute this program by running:\\n\"\n",
    "        \"    ./face_landmark_detection.py shape_predictor_68_face_landmarks.dat ../examples/faces\\n\"\n",
    "        \"You can download a trained facial shape predictor from:\\n\"\n",
    "        \"    http://dlib.net/files/shape_predictor_68_face_landmarks.dat.bz2\")\n",
    "    exit()"
   ]
  },
  {
   "cell_type": "code",
   "execution_count": 14,
   "id": "95115179",
   "metadata": {},
   "outputs": [],
   "source": [
    "predictor_path = \"shape_predictor_68_face_landmarks.dat\"\n",
    "faces_folder_path = \"testFaces\"\n",
    "\n",
    "detector = dlib.get_frontal_face_detector()\n",
    "predictor = dlib.shape_predictor('shape_predictor_68_face_landmarks.dat')\n",
    "win = dlib.image_window()"
   ]
  },
  {
   "cell_type": "code",
   "execution_count": 15,
   "id": "2e310ffb",
   "metadata": {},
   "outputs": [],
   "source": [
    "for f in glob.glob(os.path.join(faces_folder_path, \"*.jpg\")):\n",
    "    print(\"Processing file: {}\".format(f))\n",
    "    img = dlib.load_rgb_image(f)\n",
    "\n",
    "    win.clear_overlay()\n",
    "    win.set_image(img)\n",
    "\n",
    "    # Ask the detector to find the bounding boxes of each face. The 1 in the\n",
    "    # second argument indicates that we should upsample the image 1 time. This\n",
    "    # will make everything bigger and allow us to detect more faces.\n",
    "    dets = detector(img, 1)\n",
    "    print(\"Number of faces detected: {}\".format(len(dets)))\n",
    "    for k, d in enumerate(dets):\n",
    "        print(\"Detection {}: Left: {} Top: {} Right: {} Bottom: {}\".format(\n",
    "            k, d.left(), d.top(), d.right(), d.bottom()))\n",
    "        # Get the landmarks/parts for the face in box d.\n",
    "        shape = predictor(img, d)\n",
    "        print(\"Part 0: {}, Part 1: {} ...\".format(shape.part(0),\n",
    "                                                  shape.part(1)))\n",
    "        # Draw the face landmarks on the screen.\n",
    "        win.add_overlay(shape)\n",
    "\n",
    "    win.add_overlay(dets)\n",
    "    dlib.hit_enter_to_continue()"
   ]
  },
  {
   "cell_type": "code",
   "execution_count": null,
   "id": "b0be4aaf",
   "metadata": {},
   "outputs": [],
   "source": []
  }
 ],
 "metadata": {
  "kernelspec": {
   "display_name": "Python 3 (ipykernel)",
   "language": "python",
   "name": "python3"
  },
  "language_info": {
   "codemirror_mode": {
    "name": "ipython",
    "version": 3
   },
   "file_extension": ".py",
   "mimetype": "text/x-python",
   "name": "python",
   "nbconvert_exporter": "python",
   "pygments_lexer": "ipython3",
   "version": "3.9.7"
  }
 },
 "nbformat": 4,
 "nbformat_minor": 5
}
