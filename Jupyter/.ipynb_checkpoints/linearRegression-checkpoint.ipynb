{
 "cells": [
  {
   "cell_type": "code",
   "execution_count": 1,
   "id": "790aa24d",
   "metadata": {},
   "outputs": [
    {
     "name": "stdout",
     "output_type": "stream",
     "text": [
      "\n",
      "Note: you may need to restart the kernel to use updated packages.\n"
     ]
    }
   ],
   "source": [
    "conda activate tensorflow"
   ]
  },
  {
   "cell_type": "code",
   "execution_count": 78,
   "id": "7c1355a8",
   "metadata": {},
   "outputs": [],
   "source": [
    "from __future__ import absolute_import, division, print_function, unicode_literals\n",
    "from IPython.display import clear_output\n",
    "from sklearn import svm, datasets\n",
    "from sklearn.metrics import confusion_matrix\n",
    "from six.moves import urllib\n",
    "from tensorflow import keras\n",
    "from keras.models import Sequential\n",
    "from keras.layers.core import Dense, Activation\n",
    "from keras.callbacks import EarlyStopping\n",
    "from keras.callbacks import ModelCheckpoint\n",
    "from sklearn.metrics import roc_curve\n",
    "from sklearn.metrics import roc_auc_score\n",
    "from sklearn.metrics import confusion_matrix, ConfusionMatrixDisplay\n",
    "from matplotlib import pyplot as plt\n",
    "from statistics import multimode\n",
    "from sklearn.svm import SVC\n",
    "\n",
    "import statistics\n",
    "import os\n",
    "import shutil\n",
    "import dlib\n",
    "import cv2\n",
    "import numpy as np\n",
    "import pandas as pd\n",
    "import matplotlib.pyplot as plt\n",
    "import tensorflow.compat.v2.feature_column as fc\n",
    "import tensorflow as tf"
   ]
  },
  {
   "cell_type": "code",
   "execution_count": 3,
   "id": "5b1824fb",
   "metadata": {},
   "outputs": [],
   "source": [
    "dftrain = pd.read_csv('data/xyTrain.csv') # training data based on face landmark tracking\n",
    "dfeval = pd.read_csv('data/xyTest.csv') # testing data based on face landmark tracking\n",
    "dfreal = pd.read_csv('data/realMouthCoords.csv') # real face data\n",
    "y_train = dftrain.pop('happiness')\n",
    "y_eval = dfeval.pop('happiness')\n",
    "y_real = dfreal.pop('happiness')\n",
    "\n",
    "dfjsontrain = pd.read_csv('data/jsonxy_train.csv') # training data based on json files\n",
    "dfjsoneval = pd.read_csv('data/jsonxy_test.csv') # testing data based on json files\n",
    "json_train = dfjsontrain.pop('happiness')\n",
    "json_eval = dfjsoneval.pop('happiness')"
   ]
  },
  {
   "cell_type": "code",
   "execution_count": 4,
   "id": "307decf4",
   "metadata": {},
   "outputs": [],
   "source": [
    "NUMERIC_COLUMNS = ['mouth0x', 'mouth0y', 'mouth1x', 'mouth1y', 'mouth2x', 'mouth2y', 'mouth3x', 'mouth3y', 'mouth4x', 'mouth4y',\n",
    "         'mouth5x', 'mouth5y', 'mouth6x', 'mouth6y', 'mouth7x', 'mouth7y', 'mouth8x', 'mouth8y', 'mouth9x', 'mouth9y',\n",
    "         'mouth10x', 'mouth10y', 'mouth11x', 'mouth11y', 'mouth12x', 'mouth12y', 'mouth13x', 'mouth13y', 'mouth14x',\n",
    "         'mouth14y', 'mouth15x', 'mouth15y', 'mouth16x', 'mouth16y', 'mouth17x', 'mouth17y', 'mouth18x', 'mouth18y',\n",
    "         'mouth19x', 'mouth19y']\n",
    "\n",
    "feature_columns = []\n",
    "for feature_name in NUMERIC_COLUMNS:\n",
    "    feature_columns.append(tf.feature_column.numeric_column(feature_name, dtype=tf.float32))"
   ]
  },
  {
   "cell_type": "code",
   "execution_count": 84,
   "id": "2d8d53bc",
   "metadata": {},
   "outputs": [],
   "source": [
    "def make_input_fn(data_df, label_df, num_epochs=125, shuffle=True, batch_size=20):\n",
    "  def input_function():\n",
    "    ds = tf.data.Dataset.from_tensor_slices((dict(data_df), label_df))\n",
    "    if shuffle:\n",
    "      ds = ds.shuffle(1000)\n",
    "    ds = ds.batch(batch_size).repeat(num_epochs)\n",
    "    return ds\n",
    "  return input_function"
   ]
  },
  {
   "cell_type": "code",
   "execution_count": 29,
   "id": "085d334c",
   "metadata": {},
   "outputs": [
    {
     "name": "stdout",
     "output_type": "stream",
     "text": [
      "0.8035\n",
      "0.7925\n",
      "0.877\n",
      "0.8045\n",
      "0.8595\n",
      "0.87\n",
      "0.8435\n",
      "0.831\n",
      "0.8725\n",
      "0.8765\n"
     ]
    }
   ],
   "source": [
    "# Train 10 times to get an average accuracy score\n",
    "# To train model off facelandmark vs json data change\n",
    "# dftrain -> dfjsontrain\n",
    "# y_train -> json_train\n",
    "# dfeval -> dfjsoneval\n",
    "# y_eval -> json_eval\n",
    "\n",
    "i = 0\n",
    "conclusion = [0] * 10\n",
    "while i < 10: \n",
    "    train_input_fn = make_input_fn(dftrain, y_train)\n",
    "    eval_input_fn = make_input_fn(dfeval, y_eval, num_epochs=1, shuffle=False)\n",
    "\n",
    "    linear_est = tf.estimator.LinearClassifier(feature_columns=feature_columns)\n",
    "\n",
    "    linear_est.train(train_input_fn)\n",
    "    result = linear_est.evaluate(eval_input_fn)\n",
    "\n",
    "    clear_output()\n",
    "    conclusion[i] = result['accuracy']\n",
    "    print(result['accuracy'])\n",
    "    i += 1\n",
    "    print(i)\n",
    "i = 0    \n",
    "clear_output()\n",
    "while i < 10:\n",
    "    print(conclusion[i])\n",
    "    i += 1"
   ]
  },
  {
   "cell_type": "code",
   "execution_count": 85,
   "id": "d76128e5",
   "metadata": {},
   "outputs": [
    {
     "name": "stdout",
     "output_type": "stream",
     "text": [
      "0.861\n"
     ]
    }
   ],
   "source": [
    "# Train once\n",
    "train_input_fn = make_input_fn(dftrain, y_train)\n",
    "eval_input_fn = make_input_fn(dfeval, y_eval, num_epochs=1, shuffle=False)\n",
    "\n",
    "linear_est = tf.estimator.LinearClassifier(feature_columns=feature_columns)\n",
    "\n",
    "linear_est.train(train_input_fn)\n",
    "result = linear_est.evaluate(eval_input_fn)\n",
    "\n",
    "clear_output()\n",
    "conclusion = result['accuracy']\n",
    "print(result['accuracy'])"
   ]
  },
  {
   "cell_type": "code",
   "execution_count": 25,
   "id": "e05a22ac",
   "metadata": {},
   "outputs": [
    {
     "name": "stdout",
     "output_type": "stream",
     "text": [
      "1496\n",
      "0.00031625776\n"
     ]
    },
    {
     "name": "stderr",
     "output_type": "stream",
     "text": [
      "IOPub message rate exceeded.\n",
      "The notebook server will temporarily stop sending output\n",
      "to the client in order to avoid crashing it.\n",
      "To change this limit, set the config variable\n",
      "`--NotebookApp.iopub_msg_rate_limit`.\n",
      "\n",
      "Current values:\n",
      "NotebookApp.iopub_msg_rate_limit=1000.0 (msgs/sec)\n",
      "NotebookApp.rate_limit_window=3.0 (secs)\n",
      "\n"
     ]
    }
   ],
   "source": [
    "i = 0\n",
    "probArray = [0] * 2000\n",
    "lessThan = 0\n",
    "noSmile = 0\n",
    "result = list(linear_est.predict(eval_input_fn))\n",
    "while i < 2000:\n",
    "    probArray[i] = result[i]['probabilities'][1]\n",
    "    if (result[i]['probabilities'][1] <= 0.2):\n",
    "        lessThan += 1\n",
    "    if (y_eval.loc[i] == 0):\n",
    "        noSmile += 1\n",
    "    i += 1\n",
    "    clear_output()\n",
    "    print(i)\n",
    "    print(result[i]['probabilities'][1])  "
   ]
  },
  {
   "cell_type": "code",
   "execution_count": 39,
   "id": "e3216122",
   "metadata": {},
   "outputs": [
    {
     "name": "stdout",
     "output_type": "stream",
     "text": [
      "Amount of predictions less than 0.2 is : 1337\n",
      "Amount of pictures with no smiles is : 1106\n",
      "Mean of the list is : 0.29084772\n",
      "Median of list is : 0.007544670253992081\n",
      "Mode of list is : [1.0]\n"
     ]
    }
   ],
   "source": [
    "probArray.sort()\n",
    "\n",
    "res = statistics.median(probArray)\n",
    "print(\"Amount of predictions less than 0.2 is : \" + str(lessThan))\n",
    "print(\"Amount of pictures with no smiles is : \" + str(noSmile))\n",
    "print(\"Mean of the list is : \" + str(statistics.mean(probArray)))\n",
    "print(\"Median of list is : \" + str(res))\n",
    "print(\"Mode of list is : \" + str(multimode(probArray)))"
   ]
  },
  {
   "cell_type": "code",
   "execution_count": 41,
   "id": "ce6993b1",
   "metadata": {},
   "outputs": [
    {
     "name": "stdout",
     "output_type": "stream",
     "text": [
      "INFO:tensorflow:Calling model_fn.\n",
      "INFO:tensorflow:Done calling model_fn.\n",
      "INFO:tensorflow:Graph was finalized.\n",
      "INFO:tensorflow:Restoring parameters from C:\\Users\\Elliot\\AppData\\Local\\Temp\\tmpmbf4d6r_\\model.ckpt-50000\n",
      "INFO:tensorflow:Running local_init_op.\n",
      "INFO:tensorflow:Done running local_init_op.\n",
      "1\n",
      "0.99910957\n"
     ]
    }
   ],
   "source": [
    "location = 100\n",
    "result = list(linear_est.predict(eval_input_fn))\n",
    "print(y_eval.loc[location])\n",
    "print(result[location]['probabilities'][1])"
   ]
  },
  {
   "cell_type": "code",
   "execution_count": 87,
   "id": "73d42561",
   "metadata": {},
   "outputs": [
    {
     "name": "stdout",
     "output_type": "stream",
     "text": [
      "0\n",
      "0.28248298\n"
     ]
    }
   ],
   "source": [
    "# Evaluate prediction score for synthetic faces\n",
    "location = 5\n",
    "faceResult = list(linear_est.predict(eval_input_fn))\n",
    "clear_output()\n",
    "print(y_real.loc[location])\n",
    "print(faceResult[location]['probabilities'][1])"
   ]
  },
  {
   "cell_type": "code",
   "execution_count": 38,
   "id": "ae966745",
   "metadata": {},
   "outputs": [
    {
     "name": "stdout",
     "output_type": "stream",
     "text": [
      "Out of 12 pictures, the model predicted 7 correctly\n",
      "0 - 4.8024496e-05\n",
      "1 - 0.99935085\n",
      "1 - 1.0\n",
      "0 - 1.0\n",
      "1 - 0.9999974\n",
      "0 - 0.2982656\n",
      "0 - 0.14117838\n",
      "1 - 1.0\n",
      "0 - 0.71654904\n",
      "0 - 0.81341815\n",
      "0 - 0.9935389\n",
      "0 - 0.0008084449\n"
     ]
    }
   ],
   "source": [
    "# Create real faces prediction\n",
    "# To check eval vs real data change\n",
    "# real_input_fn -> eval_input_fn\n",
    "\n",
    "real_input_fn = make_input_fn(dfreal, y_real, num_epochs=1, shuffle=False)\n",
    "\n",
    "# print(dfreal.loc[i])\n",
    "# print(y_real.loc[i])\n",
    "# print(faceResult[i]['probabilities'][1])\n",
    "# Evaluate prediction score for real faces\n",
    "i = 0\n",
    "success = 0\n",
    "faceValue = [0] * 12\n",
    "facePrediction = [0] * 12\n",
    "while i < 12:\n",
    "    faceResult = list(linear_est.predict(real_input_fn))\n",
    "    if (y_real.loc[i] == 1) and (faceResult[i]['probabilities'][1] > 0.8):\n",
    "        success += 1    \n",
    "        faceValue[i] =  y_real.loc[i]\n",
    "        facePrediction[i] = faceResult[i]['probabilities'][1]\n",
    "    elif (y_real.loc[i] == 0) and (faceResult[i]['probabilities'][1] < 0.2):  \n",
    "        success += 1\n",
    "        faceValue[i] =  y_real.loc[i]\n",
    "        facePrediction[i] = faceResult[i]['probabilities'][1]\n",
    "    else:\n",
    "        faceValue[i] =  y_real.loc[i]\n",
    "        facePrediction[i] = faceResult[i]['probabilities'][1]\n",
    "    i += 1    \n",
    "clear_output()        \n",
    "print(\"Out of 12 pictures, the model predicted \" + str(success) + \" correctly\")\n",
    "i = 0\n",
    "while i < 12:\n",
    "    print(str(faceValue[i]) + \" - \" + str(facePrediction[i]))\n",
    "    i += 1"
   ]
  },
  {
   "cell_type": "code",
   "execution_count": 46,
   "id": "af774fee",
   "metadata": {},
   "outputs": [
    {
     "name": "stdout",
     "output_type": "stream",
     "text": [
      "AUC Score is 0.9495496397522564\n"
     ]
    },
    {
     "data": {
      "image/png": "[encoded data removed]",
      "text/plain": [
       "<Figure size 432x288 with 1 Axes>"
      ]
     },
     "metadata": {
      "needs_background": "light"
     },
     "output_type": "display_data"
    }
   ],
   "source": [
    "# Generating an ROC curve and AUC score of evaluation data\n",
    "pred_dicts = list(linear_est.predict(eval_input_fn))\n",
    "probs = pd.Series([pred['probabilities'][1] for pred in pred_dicts])\n",
    "fpr, tpr, _ = roc_curve(y_eval, probs)\n",
    "aucScore = roc_auc_score(y_eval, probs)\n",
    "clear_output()\n",
    "plt.plot(fpr, tpr)\n",
    "plt.title('ROC curve')\n",
    "plt.xlabel('false positive rate')\n",
    "plt.ylabel('true positive rate')\n",
    "plt.xlim(0,)\n",
    "plt.ylim(0,)\n",
    "print(\"AUC Score is \" + str(aucScore))"
   ]
  },
  {
   "cell_type": "code",
   "execution_count": 83,
   "id": "d7bc48d1",
   "metadata": {},
   "outputs": [
    {
     "name": "stdout",
     "output_type": "stream",
     "text": [
      "INFO:tensorflow:Calling model_fn.\n"
     ]
    },
    {
     "name": "stderr",
     "output_type": "stream",
     "text": [
      "C:\\Users\\Elliot\\anaconda3\\lib\\site-packages\\tensorflow_estimator\\python\\estimator\\canned\\linear.py:1468: UserWarning: `layer.add_variable` is deprecated and will be removed in a future version. Please use `layer.add_weight` method instead.\n",
      "  self.bias = self.add_variable(\n"
     ]
    },
    {
     "name": "stdout",
     "output_type": "stream",
     "text": [
      "INFO:tensorflow:Done calling model_fn.\n",
      "INFO:tensorflow:Graph was finalized.\n",
      "INFO:tensorflow:Restoring parameters from C:\\Users\\Elliot\\AppData\\Local\\Temp\\tmpmbf4d6r_\\model.ckpt-50000\n",
      "INFO:tensorflow:Running local_init_op.\n",
      "INFO:tensorflow:Done running local_init_op.\n",
      "1106\n",
      "894\n",
      "[[982 124]\n",
      " [123 771]]\n"
     ]
    },
    {
     "data": {
      "image/png": "[encoded data removed]",
      "text/plain": [
       "<Figure size 432x288 with 2 Axes>"
      ]
     },
     "metadata": {
      "needs_background": "light"
     },
     "output_type": "display_data"
    }
   ],
   "source": [
    "resultArray = [0] * 2000\n",
    "predArray = [0] * 2000\n",
    "prediction = list(linear_est.predict(eval_input_fn))\n",
    "i = 0\n",
    "while i < 2000:\n",
    "    resultArray[i] = y_eval.loc[i]\n",
    "    if (prediction[i]['probabilities'][1] > 0.5):\n",
    "        predArray[i] = 1\n",
    "    else:\n",
    "        predArray[i] = 0 \n",
    "    i += 1\n",
    "    \n",
    "clf = SVC(random_state=0)\n",
    "clf.fit(dftrain, y_train)\n",
    "SVC(random_state=0)\n",
    "    \n",
    "print(resultArray.count(0))\n",
    "print(resultArray.count(1)) \n",
    "print(confusion_matrix(resultArray, predArray))\n",
    "cm = confusion_matrix(resultArray, predArray)\n",
    "disp = ConfusionMatrixDisplay(confusion_matrix=cm, display_labels=clf.classes_)\n",
    "disp.plot()\n",
    "plt.show()"
   ]
  },
  {
   "cell_type": "code",
   "execution_count": null,
   "id": "d50b9fee",
   "metadata": {},
   "outputs": [],
   "source": [
    "# Saves model\n",
    "inputFn = \\\n",
    "tf.estimator.export.build_parsing_serving_input_receiver_fn(\n",
    "  tf.feature_column.make_parse_example_spec(feature_columns))\n",
    "OUTDIR = 'modelDir'\n",
    "shutil.rmtree(OUTDIR, ignore_errors = True)\n",
    "modelBasePath = os.path.join(OUTDIR, \"model\")\n",
    "modelPath = linear_est.export_saved_model(modelBasePath, inputFn)"
   ]
  },
  {
   "cell_type": "code",
   "execution_count": null,
   "id": "555cb9b3",
   "metadata": {},
   "outputs": [],
   "source": []
  }
 ],
 "metadata": {
  "kernelspec": {
   "display_name": "Python 3 (ipykernel)",
   "language": "python",
   "name": "python3"
  },
  "language_info": {
   "codemirror_mode": {
    "name": "ipython",
    "version": 3
   },
   "file_extension": ".py",
   "mimetype": "text/x-python",
   "name": "python",
   "nbconvert_exporter": "python",
   "pygments_lexer": "ipython3",
   "version": "3.9.7"
  }
 },
 "nbformat": 4,
 "nbformat_minor": 5
}
