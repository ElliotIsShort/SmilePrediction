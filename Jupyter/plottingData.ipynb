{
 "cells": [
  {
   "cell_type": "code",
   "execution_count": 1,
   "id": "06dbb3a6",
   "metadata": {},
   "outputs": [
    {
     "data": {
      "text/html": [
       "<div>\n",
       "<style scoped>\n",
       "    .dataframe tbody tr th:only-of-type {\n",
       "        vertical-align: middle;\n",
       "    }\n",
       "\n",
       "    .dataframe tbody tr th {\n",
       "        vertical-align: top;\n",
       "    }\n",
       "\n",
       "    .dataframe thead th {\n",
       "        text-align: right;\n",
       "    }\n",
       "</style>\n",
       "<table border=\"1\" class=\"dataframe\">\n",
       "  <thead>\n",
       "    <tr style=\"text-align: right;\">\n",
       "      <th></th>\n",
       "      <th>image</th>\n",
       "      <th>mouth0x</th>\n",
       "      <th>mouth0y</th>\n",
       "      <th>mouth1x</th>\n",
       "      <th>mouth1y</th>\n",
       "      <th>mouth2x</th>\n",
       "      <th>mouth2y</th>\n",
       "      <th>mouth3x</th>\n",
       "      <th>mouth3y</th>\n",
       "      <th>mouth4x</th>\n",
       "      <th>...</th>\n",
       "      <th>mouth15y</th>\n",
       "      <th>mouth16x</th>\n",
       "      <th>mouth16y</th>\n",
       "      <th>mouth17x</th>\n",
       "      <th>mouth17y</th>\n",
       "      <th>mouth18x</th>\n",
       "      <th>mouth18y</th>\n",
       "      <th>mouth19x</th>\n",
       "      <th>mouth19y</th>\n",
       "      <th>happiness</th>\n",
       "    </tr>\n",
       "  </thead>\n",
       "  <tbody>\n",
       "    <tr>\n",
       "      <th>0</th>\n",
       "      <td>generated.photos_0034092.jpg</td>\n",
       "      <td>392</td>\n",
       "      <td>760</td>\n",
       "      <td>424</td>\n",
       "      <td>744</td>\n",
       "      <td>456</td>\n",
       "      <td>736</td>\n",
       "      <td>488</td>\n",
       "      <td>744</td>\n",
       "      <td>520</td>\n",
       "      <td>...</td>\n",
       "      <td>768</td>\n",
       "      <td>600</td>\n",
       "      <td>768</td>\n",
       "      <td>520</td>\n",
       "      <td>776</td>\n",
       "      <td>488</td>\n",
       "      <td>784</td>\n",
       "      <td>456</td>\n",
       "      <td>776</td>\n",
       "      <td>1</td>\n",
       "    </tr>\n",
       "    <tr>\n",
       "      <th>1</th>\n",
       "      <td>generated.photos_0139935.jpg</td>\n",
       "      <td>384</td>\n",
       "      <td>736</td>\n",
       "      <td>432</td>\n",
       "      <td>720</td>\n",
       "      <td>472</td>\n",
       "      <td>712</td>\n",
       "      <td>512</td>\n",
       "      <td>720</td>\n",
       "      <td>544</td>\n",
       "      <td>...</td>\n",
       "      <td>728</td>\n",
       "      <td>616</td>\n",
       "      <td>736</td>\n",
       "      <td>544</td>\n",
       "      <td>760</td>\n",
       "      <td>512</td>\n",
       "      <td>760</td>\n",
       "      <td>480</td>\n",
       "      <td>760</td>\n",
       "      <td>1</td>\n",
       "    </tr>\n",
       "    <tr>\n",
       "      <th>2</th>\n",
       "      <td>generated.photos_v3_0000333.jpg</td>\n",
       "      <td>392</td>\n",
       "      <td>736</td>\n",
       "      <td>432</td>\n",
       "      <td>712</td>\n",
       "      <td>472</td>\n",
       "      <td>704</td>\n",
       "      <td>504</td>\n",
       "      <td>704</td>\n",
       "      <td>536</td>\n",
       "      <td>...</td>\n",
       "      <td>736</td>\n",
       "      <td>608</td>\n",
       "      <td>744</td>\n",
       "      <td>536</td>\n",
       "      <td>768</td>\n",
       "      <td>504</td>\n",
       "      <td>776</td>\n",
       "      <td>472</td>\n",
       "      <td>768</td>\n",
       "      <td>1</td>\n",
       "    </tr>\n",
       "    <tr>\n",
       "      <th>3</th>\n",
       "      <td>generated.photos_v3_0011812.jpg</td>\n",
       "      <td>392</td>\n",
       "      <td>736</td>\n",
       "      <td>440</td>\n",
       "      <td>712</td>\n",
       "      <td>488</td>\n",
       "      <td>704</td>\n",
       "      <td>520</td>\n",
       "      <td>712</td>\n",
       "      <td>552</td>\n",
       "      <td>...</td>\n",
       "      <td>728</td>\n",
       "      <td>608</td>\n",
       "      <td>736</td>\n",
       "      <td>552</td>\n",
       "      <td>768</td>\n",
       "      <td>520</td>\n",
       "      <td>768</td>\n",
       "      <td>488</td>\n",
       "      <td>768</td>\n",
       "      <td>1</td>\n",
       "    </tr>\n",
       "    <tr>\n",
       "      <th>4</th>\n",
       "      <td>generated.photos_v3_0083244.jpg</td>\n",
       "      <td>408</td>\n",
       "      <td>736</td>\n",
       "      <td>448</td>\n",
       "      <td>712</td>\n",
       "      <td>488</td>\n",
       "      <td>696</td>\n",
       "      <td>512</td>\n",
       "      <td>704</td>\n",
       "      <td>536</td>\n",
       "      <td>...</td>\n",
       "      <td>728</td>\n",
       "      <td>592</td>\n",
       "      <td>744</td>\n",
       "      <td>544</td>\n",
       "      <td>752</td>\n",
       "      <td>512</td>\n",
       "      <td>760</td>\n",
       "      <td>488</td>\n",
       "      <td>752</td>\n",
       "      <td>1</td>\n",
       "    </tr>\n",
       "  </tbody>\n",
       "</table>\n",
       "<p>5 rows × 42 columns</p>\n",
       "</div>"
      ],
      "text/plain": [
       "                             image  mouth0x  mouth0y  mouth1x  mouth1y  \\\n",
       "0     generated.photos_0034092.jpg      392      760      424      744   \n",
       "1     generated.photos_0139935.jpg      384      736      432      720   \n",
       "2  generated.photos_v3_0000333.jpg      392      736      432      712   \n",
       "3  generated.photos_v3_0011812.jpg      392      736      440      712   \n",
       "4  generated.photos_v3_0083244.jpg      408      736      448      712   \n",
       "\n",
       "   mouth2x  mouth2y  mouth3x  mouth3y  mouth4x  ...  mouth15y  mouth16x  \\\n",
       "0      456      736      488      744      520  ...       768       600   \n",
       "1      472      712      512      720      544  ...       728       616   \n",
       "2      472      704      504      704      536  ...       736       608   \n",
       "3      488      704      520      712      552  ...       728       608   \n",
       "4      488      696      512      704      536  ...       728       592   \n",
       "\n",
       "   mouth16y  mouth17x  mouth17y  mouth18x  mouth18y  mouth19x  mouth19y  \\\n",
       "0       768       520       776       488       784       456       776   \n",
       "1       736       544       760       512       760       480       760   \n",
       "2       744       536       768       504       776       472       768   \n",
       "3       736       552       768       520       768       488       768   \n",
       "4       744       544       752       512       760       488       752   \n",
       "\n",
       "   happiness  \n",
       "0          1  \n",
       "1          1  \n",
       "2          1  \n",
       "3          1  \n",
       "4          1  \n",
       "\n",
       "[5 rows x 42 columns]"
      ]
     },
     "execution_count": 1,
     "metadata": {},
     "output_type": "execute_result"
    }
   ],
   "source": [
    "import pandas as pd\n",
    "import sys\n",
    "import os\n",
    "import dlib\n",
    "import glob\n",
    "import numpy as np\n",
    "from skimage import io\n",
    "df = pd.read_csv(\"data/data.csv\")\n",
    "df.head()"
   ]
  },
  {
   "cell_type": "code",
   "execution_count": 2,
   "id": "4f870000",
   "metadata": {},
   "outputs": [],
   "source": [
    "import matplotlib.pyplot as plt\n",
    "%matplotlib inline"
   ]
  },
  {
   "cell_type": "code",
   "execution_count": 3,
   "id": "70e290c8",
   "metadata": {},
   "outputs": [],
   "source": [
    "X = df[['mouth0x','mouth1x','mouth2x','mouth3x','mouth4x','mouth5x','mouth6x','mouth7x','mouth8x','mouth9x','mouth10x','mouth11x','mouth12x','mouth13x','mouth14x','mouth15x','mouth16x','mouth17x','mouth18x','mouth19x']]\n",
    "Y = df[['mouth0y','mouth1y','mouth2y','mouth3y','mouth4y','mouth5y','mouth6y','mouth7y','mouth8y','mouth9y','mouth10y','mouth11y','mouth12y','mouth13y','mouth14y','mouth15y','mouth16y','mouth17y','mouth18y','mouth19y']]"
   ]
  },
  {
   "cell_type": "code",
   "execution_count": 4,
   "id": "23334748",
   "metadata": {},
   "outputs": [
    {
     "data": {
      "text/plain": [
       "<matplotlib.collections.PathCollection at 0x2dc8ca43a00>"
      ]
     },
     "execution_count": 4,
     "metadata": {},
     "output_type": "execute_result"
    },
    {
     "data": {
      "image/png": "[encoded data removed]",
      "text/plain": [
       "<Figure size 432x288 with 1 Axes>"
      ]
     },
     "metadata": {
      "needs_background": "light"
     },
     "output_type": "display_data"
    }
   ],
   "source": [
    "plt.scatter(X,Y)"
   ]
  },
  {
   "cell_type": "code",
   "execution_count": 5,
   "id": "c38d4e7a",
   "metadata": {},
   "outputs": [],
   "source": [
    "from sklearn.model_selection import train_test_split"
   ]
  },
  {
   "cell_type": "code",
   "execution_count": 6,
   "id": "158d4aae",
   "metadata": {},
   "outputs": [],
   "source": [
    "X_train, X_test, Y_train, Y_test = train_test_split(X,Y, test_size=0.2, random_state=10)"
   ]
  },
  {
   "cell_type": "code",
   "execution_count": 7,
   "id": "2867724d",
   "metadata": {},
   "outputs": [],
   "source": [
    "df2 = pd.read_csv(\"data/mouthCoords.csv\")\n",
    "df2.head()\n",
    "X2 = df2[['mouth0x','mouth1x','mouth2x','mouth3x','mouth4x','mouth5x','mouth6x','mouth7x','mouth8x','mouth9x','mouth10x','mouth11x','mouth12x','mouth13x','mouth14x','mouth15x','mouth16x','mouth17x','mouth18x','mouth19x']]\n",
    "Y2 = df2[['mouth0y','mouth1y','mouth2y','mouth3y','mouth4y','mouth5y','mouth6y','mouth7y','mouth8y','mouth9y','mouth10y','mouth11y','mouth12y','mouth13y','mouth14y','mouth15y','mouth16y','mouth17y','mouth18y','mouth19y']]"
   ]
  },
  {
   "cell_type": "code",
   "execution_count": 8,
   "id": "a9b41fdb",
   "metadata": {},
   "outputs": [
    {
     "data": {
      "text/plain": [
       "<matplotlib.collections.PathCollection at 0x2dc92b2da00>"
      ]
     },
     "execution_count": 8,
     "metadata": {},
     "output_type": "execute_result"
    },
    {
     "data": {
      "image/png": "[encoded data removed]",
      "text/plain": [
       "<Figure size 432x288 with 1 Axes>"
      ]
     },
     "metadata": {
      "needs_background": "light"
     },
     "output_type": "display_data"
    }
   ],
   "source": [
    "# Plots data for real mouth coords\n",
    "plt.scatter(X2,Y2)"
   ]
  },
  {
   "cell_type": "code",
   "execution_count": 9,
   "id": "e46c5c4f",
   "metadata": {},
   "outputs": [],
   "source": [
    "df3 = pd.read_csv(\"data/originalCoords.csv\")\n",
    "df3.head()\n",
    "X3 = df3[['mouth0x','mouth1x','mouth2x','mouth3x','mouth4x','mouth5x','mouth6x','mouth7x','mouth8x','mouth9x','mouth10x','mouth11x','mouth12x','mouth13x','mouth14x','mouth15x','mouth16x','mouth17x','mouth18x','mouth19x']]\n",
    "Y3 = df3[['mouth0y','mouth1y','mouth2y','mouth3y','mouth4y','mouth5y','mouth6y','mouth7y','mouth8y','mouth9y','mouth10y','mouth11y','mouth12y','mouth13y','mouth14y','mouth15y','mouth16y','mouth17y','mouth18y','mouth19y']]"
   ]
  },
  {
   "cell_type": "code",
   "execution_count": 10,
   "id": "5c3a148a",
   "metadata": {},
   "outputs": [
    {
     "data": {
      "text/plain": [
       "<matplotlib.collections.PathCollection at 0x2dc92bae8b0>"
      ]
     },
     "execution_count": 10,
     "metadata": {},
     "output_type": "execute_result"
    },
    {
     "data": {
      "image/png": "[encoded data removed]",
      "text/plain": [
       "<Figure size 432x288 with 1 Axes>"
      ]
     },
     "metadata": {
      "needs_background": "light"
     },
     "output_type": "display_data"
    }
   ],
   "source": [
    "# Plots data for json mouth coords\n",
    "plt.scatter(X3,Y3)"
   ]
  },
  {
   "cell_type": "code",
   "execution_count": null,
   "id": "b64ee8ed",
   "metadata": {},
   "outputs": [],
   "source": []
  }
 ],
 "metadata": {
  "kernelspec": {
   "display_name": "Python 3 (ipykernel)",
   "language": "python",
   "name": "python3"
  },
  "language_info": {
   "codemirror_mode": {
    "name": "ipython",
    "version": 3
   },
   "file_extension": ".py",
   "mimetype": "text/x-python",
   "name": "python",
   "nbconvert_exporter": "python",
   "pygments_lexer": "ipython3",
   "version": "3.9.7"
  }
 },
 "nbformat": 4,
 "nbformat_minor": 5
}
